{
 "cells": [
  {
   "cell_type": "code",
   "execution_count": 2,
   "metadata": {},
   "outputs": [],
   "source": [
    "import pandas as pd\n",
    "import numpy as np\n",
    "import os\n",
    "import plotly.express as px\n",
    "import plotly.graph_objects as go\n",
    "from plotly.subplots import make_subplots"
   ]
  },
  {
   "cell_type": "code",
   "execution_count": 4,
   "metadata": {},
   "outputs": [
    {
     "data": {
      "text/html": [
       "<div>\n",
       "<style scoped>\n",
       "    .dataframe tbody tr th:only-of-type {\n",
       "        vertical-align: middle;\n",
       "    }\n",
       "\n",
       "    .dataframe tbody tr th {\n",
       "        vertical-align: top;\n",
       "    }\n",
       "\n",
       "    .dataframe thead th {\n",
       "        text-align: right;\n",
       "    }\n",
       "</style>\n",
       "<table border=\"1\" class=\"dataframe\">\n",
       "  <thead>\n",
       "    <tr style=\"text-align: right;\">\n",
       "      <th></th>\n",
       "      <th>code</th>\n",
       "      <th>name_x</th>\n",
       "      <th>time</th>\n",
       "      <th>PPE</th>\n",
       "      <th>K</th>\n",
       "      <th>L</th>\n",
       "      <th>E</th>\n",
       "      <th>sales</th>\n",
       "      <th>COGS</th>\n",
       "      <th>gross</th>\n",
       "      <th>...</th>\n",
       "      <th>market</th>\n",
       "      <th>industry_tse</th>\n",
       "      <th>industry</th>\n",
       "      <th>cons_a</th>\n",
       "      <th>cons_b</th>\n",
       "      <th>rank_a</th>\n",
       "      <th>rank_b</th>\n",
       "      <th>rank_a_pr</th>\n",
       "      <th>rank_b_pr</th>\n",
       "      <th>mk</th>\n",
       "    </tr>\n",
       "  </thead>\n",
       "  <tbody>\n",
       "    <tr>\n",
       "      <th>0</th>\n",
       "      <td>1101</td>\n",
       "      <td>台泥</td>\n",
       "      <td>2023/12</td>\n",
       "      <td>28052603.0</td>\n",
       "      <td>382635120.0</td>\n",
       "      <td>151701866.0</td>\n",
       "      <td>230933254.0</td>\n",
       "      <td>26021513.0</td>\n",
       "      <td>19448386.0</td>\n",
       "      <td>6573127.0</td>\n",
       "      <td>...</td>\n",
       "      <td>TSE</td>\n",
       "      <td>M1100</td>\n",
       "      <td>2</td>\n",
       "      <td>0.002234</td>\n",
       "      <td>0.581346</td>\n",
       "      <td>304.0</td>\n",
       "      <td>1.0</td>\n",
       "      <td>80.169602</td>\n",
       "      <td>85.714286</td>\n",
       "      <td>1.337978</td>\n",
       "    </tr>\n",
       "    <tr>\n",
       "      <th>1</th>\n",
       "      <td>1102</td>\n",
       "      <td>亞泥</td>\n",
       "      <td>2023/12</td>\n",
       "      <td>5148625.0</td>\n",
       "      <td>254551418.0</td>\n",
       "      <td>85381522.0</td>\n",
       "      <td>169169896.0</td>\n",
       "      <td>11140246.0</td>\n",
       "      <td>9291434.0</td>\n",
       "      <td>1848812.0</td>\n",
       "      <td>...</td>\n",
       "      <td>TSE</td>\n",
       "      <td>M1100</td>\n",
       "      <td>2</td>\n",
       "      <td>0.000628</td>\n",
       "      <td>0.163514</td>\n",
       "      <td>372.0</td>\n",
       "      <td>2.0</td>\n",
       "      <td>75.733855</td>\n",
       "      <td>71.428571</td>\n",
       "      <td>1.198980</td>\n",
       "    </tr>\n",
       "    <tr>\n",
       "      <th>2</th>\n",
       "      <td>1103</td>\n",
       "      <td>嘉泥</td>\n",
       "      <td>2023/12</td>\n",
       "      <td>537254.0</td>\n",
       "      <td>29483931.0</td>\n",
       "      <td>7802480.0</td>\n",
       "      <td>21681451.0</td>\n",
       "      <td>1463151.0</td>\n",
       "      <td>1424891.0</td>\n",
       "      <td>38260.0</td>\n",
       "      <td>...</td>\n",
       "      <td>TSE</td>\n",
       "      <td>M1100</td>\n",
       "      <td>2</td>\n",
       "      <td>0.000013</td>\n",
       "      <td>0.003384</td>\n",
       "      <td>289.0</td>\n",
       "      <td>4.0</td>\n",
       "      <td>81.148076</td>\n",
       "      <td>42.857143</td>\n",
       "      <td>1.026851</td>\n",
       "    </tr>\n",
       "    <tr>\n",
       "      <th>3</th>\n",
       "      <td>1104</td>\n",
       "      <td>環泥</td>\n",
       "      <td>2023/12</td>\n",
       "      <td>6261756.0</td>\n",
       "      <td>26536740.0</td>\n",
       "      <td>4667558.0</td>\n",
       "      <td>21869182.0</td>\n",
       "      <td>6007860.0</td>\n",
       "      <td>4721870.0</td>\n",
       "      <td>1285990.0</td>\n",
       "      <td>...</td>\n",
       "      <td>TSE</td>\n",
       "      <td>M1100</td>\n",
       "      <td>2</td>\n",
       "      <td>0.000437</td>\n",
       "      <td>0.113737</td>\n",
       "      <td>334.0</td>\n",
       "      <td>5.0</td>\n",
       "      <td>78.212655</td>\n",
       "      <td>28.571429</td>\n",
       "      <td>1.272348</td>\n",
       "    </tr>\n",
       "    <tr>\n",
       "      <th>4</th>\n",
       "      <td>1108</td>\n",
       "      <td>幸福</td>\n",
       "      <td>2023/12</td>\n",
       "      <td>1927229.0</td>\n",
       "      <td>7709628.0</td>\n",
       "      <td>2638870.0</td>\n",
       "      <td>5070758.0</td>\n",
       "      <td>3749925.0</td>\n",
       "      <td>3030182.0</td>\n",
       "      <td>719743.0</td>\n",
       "      <td>...</td>\n",
       "      <td>TSE</td>\n",
       "      <td>M1100</td>\n",
       "      <td>2</td>\n",
       "      <td>0.000245</td>\n",
       "      <td>0.063656</td>\n",
       "      <td>431.0</td>\n",
       "      <td>6.0</td>\n",
       "      <td>71.885192</td>\n",
       "      <td>14.285714</td>\n",
       "      <td>1.237525</td>\n",
       "    </tr>\n",
       "    <tr>\n",
       "      <th>...</th>\n",
       "      <td>...</td>\n",
       "      <td>...</td>\n",
       "      <td>...</td>\n",
       "      <td>...</td>\n",
       "      <td>...</td>\n",
       "      <td>...</td>\n",
       "      <td>...</td>\n",
       "      <td>...</td>\n",
       "      <td>...</td>\n",
       "      <td>...</td>\n",
       "      <td>...</td>\n",
       "      <td>...</td>\n",
       "      <td>...</td>\n",
       "      <td>...</td>\n",
       "      <td>...</td>\n",
       "      <td>...</td>\n",
       "      <td>...</td>\n",
       "      <td>...</td>\n",
       "      <td>...</td>\n",
       "      <td>...</td>\n",
       "      <td>...</td>\n",
       "    </tr>\n",
       "    <tr>\n",
       "      <th>46314</th>\n",
       "      <td>9962</td>\n",
       "      <td>有益</td>\n",
       "      <td>2000/12</td>\n",
       "      <td>371694.0</td>\n",
       "      <td>842327.0</td>\n",
       "      <td>476583.0</td>\n",
       "      <td>365744.0</td>\n",
       "      <td>1178497.0</td>\n",
       "      <td>1073559.0</td>\n",
       "      <td>104938.0</td>\n",
       "      <td>...</td>\n",
       "      <td>NaN</td>\n",
       "      <td>M2000</td>\n",
       "      <td>2</td>\n",
       "      <td>0.000124</td>\n",
       "      <td>0.002003</td>\n",
       "      <td>890.0</td>\n",
       "      <td>31.0</td>\n",
       "      <td>28.341385</td>\n",
       "      <td>49.180328</td>\n",
       "      <td>1.097748</td>\n",
       "    </tr>\n",
       "    <tr>\n",
       "      <th>46315</th>\n",
       "      <td>9965</td>\n",
       "      <td>永儲</td>\n",
       "      <td>2000/12</td>\n",
       "      <td>2138474.0</td>\n",
       "      <td>2468897.0</td>\n",
       "      <td>989388.0</td>\n",
       "      <td>1479509.0</td>\n",
       "      <td>737690.0</td>\n",
       "      <td>504944.0</td>\n",
       "      <td>232746.0</td>\n",
       "      <td>...</td>\n",
       "      <td>NaN</td>\n",
       "      <td>M2600</td>\n",
       "      <td>6</td>\n",
       "      <td>0.005806</td>\n",
       "      <td>0.005556</td>\n",
       "      <td>19.0</td>\n",
       "      <td>20.0</td>\n",
       "      <td>40.625000</td>\n",
       "      <td>42.857143</td>\n",
       "      <td>1.460934</td>\n",
       "    </tr>\n",
       "    <tr>\n",
       "      <th>46316</th>\n",
       "      <td>L2301</td>\n",
       "      <td>光寶</td>\n",
       "      <td>2000/12</td>\n",
       "      <td>1887174.0</td>\n",
       "      <td>17171414.0</td>\n",
       "      <td>9298158.0</td>\n",
       "      <td>7873256.0</td>\n",
       "      <td>15711447.0</td>\n",
       "      <td>13449954.0</td>\n",
       "      <td>2261493.0</td>\n",
       "      <td>...</td>\n",
       "      <td>TSE</td>\n",
       "      <td>M2300</td>\n",
       "      <td>2</td>\n",
       "      <td>0.002682</td>\n",
       "      <td>0.003035</td>\n",
       "      <td>1068.0</td>\n",
       "      <td>877.0</td>\n",
       "      <td>14.009662</td>\n",
       "      <td>6.900212</td>\n",
       "      <td>1.168141</td>\n",
       "    </tr>\n",
       "    <tr>\n",
       "      <th>46317</th>\n",
       "      <td>R073</td>\n",
       "      <td>和茂</td>\n",
       "      <td>2000/12</td>\n",
       "      <td>78102.0</td>\n",
       "      <td>251964.0</td>\n",
       "      <td>97309.0</td>\n",
       "      <td>154655.0</td>\n",
       "      <td>63154.0</td>\n",
       "      <td>41030.0</td>\n",
       "      <td>22124.0</td>\n",
       "      <td>...</td>\n",
       "      <td>NaN</td>\n",
       "      <td>M2300</td>\n",
       "      <td>2</td>\n",
       "      <td>0.000026</td>\n",
       "      <td>0.000030</td>\n",
       "      <td>295.0</td>\n",
       "      <td>608.0</td>\n",
       "      <td>76.247987</td>\n",
       "      <td>35.456476</td>\n",
       "      <td>1.539215</td>\n",
       "    </tr>\n",
       "    <tr>\n",
       "      <th>46318</th>\n",
       "      <td>R176</td>\n",
       "      <td>錦星</td>\n",
       "      <td>2000/12</td>\n",
       "      <td>79173.0</td>\n",
       "      <td>868979.0</td>\n",
       "      <td>682571.0</td>\n",
       "      <td>186408.0</td>\n",
       "      <td>1686890.0</td>\n",
       "      <td>1554271.0</td>\n",
       "      <td>132619.0</td>\n",
       "      <td>...</td>\n",
       "      <td>NaN</td>\n",
       "      <td>M2300</td>\n",
       "      <td>5</td>\n",
       "      <td>0.001610</td>\n",
       "      <td>0.000178</td>\n",
       "      <td>23.0</td>\n",
       "      <td>816.0</td>\n",
       "      <td>81.147541</td>\n",
       "      <td>13.375796</td>\n",
       "      <td>1.085326</td>\n",
       "    </tr>\n",
       "  </tbody>\n",
       "</table>\n",
       "<p>46319 rows × 29 columns</p>\n",
       "</div>"
      ],
      "text/plain": [
       "        code name_x     time         PPE            K            L  \\\n",
       "0       1101     台泥  2023/12  28052603.0  382635120.0  151701866.0   \n",
       "1       1102     亞泥  2023/12   5148625.0  254551418.0   85381522.0   \n",
       "2       1103     嘉泥  2023/12    537254.0   29483931.0    7802480.0   \n",
       "3       1104     環泥  2023/12   6261756.0   26536740.0    4667558.0   \n",
       "4       1108     幸福  2023/12   1927229.0    7709628.0    2638870.0   \n",
       "...      ...    ...      ...         ...          ...          ...   \n",
       "46314   9962     有益  2000/12    371694.0     842327.0     476583.0   \n",
       "46315   9965     永儲  2000/12   2138474.0    2468897.0     989388.0   \n",
       "46316  L2301     光寶  2000/12   1887174.0   17171414.0    9298158.0   \n",
       "46317   R073     和茂  2000/12     78102.0     251964.0      97309.0   \n",
       "46318   R176     錦星  2000/12     79173.0     868979.0     682571.0   \n",
       "\n",
       "                 E       sales        COGS      gross  ...  market  \\\n",
       "0      230933254.0  26021513.0  19448386.0  6573127.0  ...     TSE   \n",
       "1      169169896.0  11140246.0   9291434.0  1848812.0  ...     TSE   \n",
       "2       21681451.0   1463151.0   1424891.0    38260.0  ...     TSE   \n",
       "3       21869182.0   6007860.0   4721870.0  1285990.0  ...     TSE   \n",
       "4        5070758.0   3749925.0   3030182.0   719743.0  ...     TSE   \n",
       "...            ...         ...         ...        ...  ...     ...   \n",
       "46314     365744.0   1178497.0   1073559.0   104938.0  ...     NaN   \n",
       "46315    1479509.0    737690.0    504944.0   232746.0  ...     NaN   \n",
       "46316    7873256.0  15711447.0  13449954.0  2261493.0  ...     TSE   \n",
       "46317     154655.0     63154.0     41030.0    22124.0  ...     NaN   \n",
       "46318     186408.0   1686890.0   1554271.0   132619.0  ...     NaN   \n",
       "\n",
       "       industry_tse  industry    cons_a    cons_b  rank_a  rank_b  rank_a_pr  \\\n",
       "0             M1100         2  0.002234  0.581346   304.0     1.0  80.169602   \n",
       "1             M1100         2  0.000628  0.163514   372.0     2.0  75.733855   \n",
       "2             M1100         2  0.000013  0.003384   289.0     4.0  81.148076   \n",
       "3             M1100         2  0.000437  0.113737   334.0     5.0  78.212655   \n",
       "4             M1100         2  0.000245  0.063656   431.0     6.0  71.885192   \n",
       "...             ...       ...       ...       ...     ...     ...        ...   \n",
       "46314         M2000         2  0.000124  0.002003   890.0    31.0  28.341385   \n",
       "46315         M2600         6  0.005806  0.005556    19.0    20.0  40.625000   \n",
       "46316         M2300         2  0.002682  0.003035  1068.0   877.0  14.009662   \n",
       "46317         M2300         2  0.000026  0.000030   295.0   608.0  76.247987   \n",
       "46318         M2300         5  0.001610  0.000178    23.0   816.0  81.147541   \n",
       "\n",
       "       rank_b_pr        mk  \n",
       "0      85.714286  1.337978  \n",
       "1      71.428571  1.198980  \n",
       "2      42.857143  1.026851  \n",
       "3      28.571429  1.272348  \n",
       "4      14.285714  1.237525  \n",
       "...          ...       ...  \n",
       "46314  49.180328  1.097748  \n",
       "46315  42.857143  1.460934  \n",
       "46316   6.900212  1.168141  \n",
       "46317  35.456476  1.539215  \n",
       "46318  13.375796  1.085326  \n",
       "\n",
       "[46319 rows x 29 columns]"
      ]
     },
     "execution_count": 4,
     "metadata": {},
     "output_type": "execute_result"
    }
   ],
   "source": [
    "df = pd.read_excel(\"./data/pre_reg_data.xlsx\")\n",
    "df"
   ]
  },
  {
   "cell_type": "code",
   "execution_count": 6,
   "metadata": {},
   "outputs": [
    {
     "data": {
      "application/vnd.plotly.v1+json": {
       "config": {
        "plotlyServerURL": "https://plot.ly"
       },
       "data": [
        {
         "alignmentgroup": "True",
         "hovertemplate": "industry=%{x}<br># of obs=%{y}<extra></extra>",
         "legendgroup": "",
         "marker": {
          "color": "#636efa",
          "pattern": {
           "shape": ""
          }
         },
         "name": "",
         "offsetgroup": "",
         "orientation": "v",
         "showlegend": false,
         "textposition": "auto",
         "texttemplate": "%{y}",
         "type": "bar",
         "x": [
          "IDK",
          "agri",
          "manu",
          "uti",
          "const",
          "retail",
          "trans",
          "finance",
          "service"
         ],
         "xaxis": "x",
         "y": [
          18,
          78,
          34836,
          3524,
          796,
          2720,
          760,
          177,
          3410
         ],
         "yaxis": "y"
        }
       ],
       "layout": {
        "barmode": "relative",
        "legend": {
         "tracegroupgap": 0
        },
        "margin": {
         "t": 60
        },
        "template": {
         "data": {
          "bar": [
           {
            "error_x": {
             "color": "#2a3f5f"
            },
            "error_y": {
             "color": "#2a3f5f"
            },
            "marker": {
             "line": {
              "color": "#E5ECF6",
              "width": 0.5
             },
             "pattern": {
              "fillmode": "overlay",
              "size": 10,
              "solidity": 0.2
             }
            },
            "type": "bar"
           }
          ],
          "barpolar": [
           {
            "marker": {
             "line": {
              "color": "#E5ECF6",
              "width": 0.5
             },
             "pattern": {
              "fillmode": "overlay",
              "size": 10,
              "solidity": 0.2
             }
            },
            "type": "barpolar"
           }
          ],
          "carpet": [
           {
            "aaxis": {
             "endlinecolor": "#2a3f5f",
             "gridcolor": "white",
             "linecolor": "white",
             "minorgridcolor": "white",
             "startlinecolor": "#2a3f5f"
            },
            "baxis": {
             "endlinecolor": "#2a3f5f",
             "gridcolor": "white",
             "linecolor": "white",
             "minorgridcolor": "white",
             "startlinecolor": "#2a3f5f"
            },
            "type": "carpet"
           }
          ],
          "choropleth": [
           {
            "colorbar": {
             "outlinewidth": 0,
             "ticks": ""
            },
            "type": "choropleth"
           }
          ],
          "contour": [
           {
            "colorbar": {
             "outlinewidth": 0,
             "ticks": ""
            },
            "colorscale": [
             [
              0,
              "#0d0887"
             ],
             [
              0.1111111111111111,
              "#46039f"
             ],
             [
              0.2222222222222222,
              "#7201a8"
             ],
             [
              0.3333333333333333,
              "#9c179e"
             ],
             [
              0.4444444444444444,
              "#bd3786"
             ],
             [
              0.5555555555555556,
              "#d8576b"
             ],
             [
              0.6666666666666666,
              "#ed7953"
             ],
             [
              0.7777777777777778,
              "#fb9f3a"
             ],
             [
              0.8888888888888888,
              "#fdca26"
             ],
             [
              1,
              "#f0f921"
             ]
            ],
            "type": "contour"
           }
          ],
          "contourcarpet": [
           {
            "colorbar": {
             "outlinewidth": 0,
             "ticks": ""
            },
            "type": "contourcarpet"
           }
          ],
          "heatmap": [
           {
            "colorbar": {
             "outlinewidth": 0,
             "ticks": ""
            },
            "colorscale": [
             [
              0,
              "#0d0887"
             ],
             [
              0.1111111111111111,
              "#46039f"
             ],
             [
              0.2222222222222222,
              "#7201a8"
             ],
             [
              0.3333333333333333,
              "#9c179e"
             ],
             [
              0.4444444444444444,
              "#bd3786"
             ],
             [
              0.5555555555555556,
              "#d8576b"
             ],
             [
              0.6666666666666666,
              "#ed7953"
             ],
             [
              0.7777777777777778,
              "#fb9f3a"
             ],
             [
              0.8888888888888888,
              "#fdca26"
             ],
             [
              1,
              "#f0f921"
             ]
            ],
            "type": "heatmap"
           }
          ],
          "heatmapgl": [
           {
            "colorbar": {
             "outlinewidth": 0,
             "ticks": ""
            },
            "colorscale": [
             [
              0,
              "#0d0887"
             ],
             [
              0.1111111111111111,
              "#46039f"
             ],
             [
              0.2222222222222222,
              "#7201a8"
             ],
             [
              0.3333333333333333,
              "#9c179e"
             ],
             [
              0.4444444444444444,
              "#bd3786"
             ],
             [
              0.5555555555555556,
              "#d8576b"
             ],
             [
              0.6666666666666666,
              "#ed7953"
             ],
             [
              0.7777777777777778,
              "#fb9f3a"
             ],
             [
              0.8888888888888888,
              "#fdca26"
             ],
             [
              1,
              "#f0f921"
             ]
            ],
            "type": "heatmapgl"
           }
          ],
          "histogram": [
           {
            "marker": {
             "pattern": {
              "fillmode": "overlay",
              "size": 10,
              "solidity": 0.2
             }
            },
            "type": "histogram"
           }
          ],
          "histogram2d": [
           {
            "colorbar": {
             "outlinewidth": 0,
             "ticks": ""
            },
            "colorscale": [
             [
              0,
              "#0d0887"
             ],
             [
              0.1111111111111111,
              "#46039f"
             ],
             [
              0.2222222222222222,
              "#7201a8"
             ],
             [
              0.3333333333333333,
              "#9c179e"
             ],
             [
              0.4444444444444444,
              "#bd3786"
             ],
             [
              0.5555555555555556,
              "#d8576b"
             ],
             [
              0.6666666666666666,
              "#ed7953"
             ],
             [
              0.7777777777777778,
              "#fb9f3a"
             ],
             [
              0.8888888888888888,
              "#fdca26"
             ],
             [
              1,
              "#f0f921"
             ]
            ],
            "type": "histogram2d"
           }
          ],
          "histogram2dcontour": [
           {
            "colorbar": {
             "outlinewidth": 0,
             "ticks": ""
            },
            "colorscale": [
             [
              0,
              "#0d0887"
             ],
             [
              0.1111111111111111,
              "#46039f"
             ],
             [
              0.2222222222222222,
              "#7201a8"
             ],
             [
              0.3333333333333333,
              "#9c179e"
             ],
             [
              0.4444444444444444,
              "#bd3786"
             ],
             [
              0.5555555555555556,
              "#d8576b"
             ],
             [
              0.6666666666666666,
              "#ed7953"
             ],
             [
              0.7777777777777778,
              "#fb9f3a"
             ],
             [
              0.8888888888888888,
              "#fdca26"
             ],
             [
              1,
              "#f0f921"
             ]
            ],
            "type": "histogram2dcontour"
           }
          ],
          "mesh3d": [
           {
            "colorbar": {
             "outlinewidth": 0,
             "ticks": ""
            },
            "type": "mesh3d"
           }
          ],
          "parcoords": [
           {
            "line": {
             "colorbar": {
              "outlinewidth": 0,
              "ticks": ""
             }
            },
            "type": "parcoords"
           }
          ],
          "pie": [
           {
            "automargin": true,
            "type": "pie"
           }
          ],
          "scatter": [
           {
            "fillpattern": {
             "fillmode": "overlay",
             "size": 10,
             "solidity": 0.2
            },
            "type": "scatter"
           }
          ],
          "scatter3d": [
           {
            "line": {
             "colorbar": {
              "outlinewidth": 0,
              "ticks": ""
             }
            },
            "marker": {
             "colorbar": {
              "outlinewidth": 0,
              "ticks": ""
             }
            },
            "type": "scatter3d"
           }
          ],
          "scattercarpet": [
           {
            "marker": {
             "colorbar": {
              "outlinewidth": 0,
              "ticks": ""
             }
            },
            "type": "scattercarpet"
           }
          ],
          "scattergeo": [
           {
            "marker": {
             "colorbar": {
              "outlinewidth": 0,
              "ticks": ""
             }
            },
            "type": "scattergeo"
           }
          ],
          "scattergl": [
           {
            "marker": {
             "colorbar": {
              "outlinewidth": 0,
              "ticks": ""
             }
            },
            "type": "scattergl"
           }
          ],
          "scattermapbox": [
           {
            "marker": {
             "colorbar": {
              "outlinewidth": 0,
              "ticks": ""
             }
            },
            "type": "scattermapbox"
           }
          ],
          "scatterpolar": [
           {
            "marker": {
             "colorbar": {
              "outlinewidth": 0,
              "ticks": ""
             }
            },
            "type": "scatterpolar"
           }
          ],
          "scatterpolargl": [
           {
            "marker": {
             "colorbar": {
              "outlinewidth": 0,
              "ticks": ""
             }
            },
            "type": "scatterpolargl"
           }
          ],
          "scatterternary": [
           {
            "marker": {
             "colorbar": {
              "outlinewidth": 0,
              "ticks": ""
             }
            },
            "type": "scatterternary"
           }
          ],
          "surface": [
           {
            "colorbar": {
             "outlinewidth": 0,
             "ticks": ""
            },
            "colorscale": [
             [
              0,
              "#0d0887"
             ],
             [
              0.1111111111111111,
              "#46039f"
             ],
             [
              0.2222222222222222,
              "#7201a8"
             ],
             [
              0.3333333333333333,
              "#9c179e"
             ],
             [
              0.4444444444444444,
              "#bd3786"
             ],
             [
              0.5555555555555556,
              "#d8576b"
             ],
             [
              0.6666666666666666,
              "#ed7953"
             ],
             [
              0.7777777777777778,
              "#fb9f3a"
             ],
             [
              0.8888888888888888,
              "#fdca26"
             ],
             [
              1,
              "#f0f921"
             ]
            ],
            "type": "surface"
           }
          ],
          "table": [
           {
            "cells": {
             "fill": {
              "color": "#EBF0F8"
             },
             "line": {
              "color": "white"
             }
            },
            "header": {
             "fill": {
              "color": "#C8D4E3"
             },
             "line": {
              "color": "white"
             }
            },
            "type": "table"
           }
          ]
         },
         "layout": {
          "annotationdefaults": {
           "arrowcolor": "#2a3f5f",
           "arrowhead": 0,
           "arrowwidth": 1
          },
          "autotypenumbers": "strict",
          "coloraxis": {
           "colorbar": {
            "outlinewidth": 0,
            "ticks": ""
           }
          },
          "colorscale": {
           "diverging": [
            [
             0,
             "#8e0152"
            ],
            [
             0.1,
             "#c51b7d"
            ],
            [
             0.2,
             "#de77ae"
            ],
            [
             0.3,
             "#f1b6da"
            ],
            [
             0.4,
             "#fde0ef"
            ],
            [
             0.5,
             "#f7f7f7"
            ],
            [
             0.6,
             "#e6f5d0"
            ],
            [
             0.7,
             "#b8e186"
            ],
            [
             0.8,
             "#7fbc41"
            ],
            [
             0.9,
             "#4d9221"
            ],
            [
             1,
             "#276419"
            ]
           ],
           "sequential": [
            [
             0,
             "#0d0887"
            ],
            [
             0.1111111111111111,
             "#46039f"
            ],
            [
             0.2222222222222222,
             "#7201a8"
            ],
            [
             0.3333333333333333,
             "#9c179e"
            ],
            [
             0.4444444444444444,
             "#bd3786"
            ],
            [
             0.5555555555555556,
             "#d8576b"
            ],
            [
             0.6666666666666666,
             "#ed7953"
            ],
            [
             0.7777777777777778,
             "#fb9f3a"
            ],
            [
             0.8888888888888888,
             "#fdca26"
            ],
            [
             1,
             "#f0f921"
            ]
           ],
           "sequentialminus": [
            [
             0,
             "#0d0887"
            ],
            [
             0.1111111111111111,
             "#46039f"
            ],
            [
             0.2222222222222222,
             "#7201a8"
            ],
            [
             0.3333333333333333,
             "#9c179e"
            ],
            [
             0.4444444444444444,
             "#bd3786"
            ],
            [
             0.5555555555555556,
             "#d8576b"
            ],
            [
             0.6666666666666666,
             "#ed7953"
            ],
            [
             0.7777777777777778,
             "#fb9f3a"
            ],
            [
             0.8888888888888888,
             "#fdca26"
            ],
            [
             1,
             "#f0f921"
            ]
           ]
          },
          "colorway": [
           "#636efa",
           "#EF553B",
           "#00cc96",
           "#ab63fa",
           "#FFA15A",
           "#19d3f3",
           "#FF6692",
           "#B6E880",
           "#FF97FF",
           "#FECB52"
          ],
          "font": {
           "color": "#2a3f5f"
          },
          "geo": {
           "bgcolor": "white",
           "lakecolor": "white",
           "landcolor": "#E5ECF6",
           "showlakes": true,
           "showland": true,
           "subunitcolor": "white"
          },
          "hoverlabel": {
           "align": "left"
          },
          "hovermode": "closest",
          "mapbox": {
           "style": "light"
          },
          "paper_bgcolor": "white",
          "plot_bgcolor": "#E5ECF6",
          "polar": {
           "angularaxis": {
            "gridcolor": "white",
            "linecolor": "white",
            "ticks": ""
           },
           "bgcolor": "#E5ECF6",
           "radialaxis": {
            "gridcolor": "white",
            "linecolor": "white",
            "ticks": ""
           }
          },
          "scene": {
           "xaxis": {
            "backgroundcolor": "#E5ECF6",
            "gridcolor": "white",
            "gridwidth": 2,
            "linecolor": "white",
            "showbackground": true,
            "ticks": "",
            "zerolinecolor": "white"
           },
           "yaxis": {
            "backgroundcolor": "#E5ECF6",
            "gridcolor": "white",
            "gridwidth": 2,
            "linecolor": "white",
            "showbackground": true,
            "ticks": "",
            "zerolinecolor": "white"
           },
           "zaxis": {
            "backgroundcolor": "#E5ECF6",
            "gridcolor": "white",
            "gridwidth": 2,
            "linecolor": "white",
            "showbackground": true,
            "ticks": "",
            "zerolinecolor": "white"
           }
          },
          "shapedefaults": {
           "line": {
            "color": "#2a3f5f"
           }
          },
          "ternary": {
           "aaxis": {
            "gridcolor": "white",
            "linecolor": "white",
            "ticks": ""
           },
           "baxis": {
            "gridcolor": "white",
            "linecolor": "white",
            "ticks": ""
           },
           "bgcolor": "#E5ECF6",
           "caxis": {
            "gridcolor": "white",
            "linecolor": "white",
            "ticks": ""
           }
          },
          "title": {
           "x": 0.05
          },
          "xaxis": {
           "automargin": true,
           "gridcolor": "white",
           "linecolor": "white",
           "ticks": "",
           "title": {
            "standoff": 15
           },
           "zerolinecolor": "white",
           "zerolinewidth": 2
          },
          "yaxis": {
           "automargin": true,
           "gridcolor": "white",
           "linecolor": "white",
           "ticks": "",
           "title": {
            "standoff": 15
           },
           "zerolinecolor": "white",
           "zerolinewidth": 2
          }
         }
        },
        "xaxis": {
         "anchor": "y",
         "domain": [
          0,
          1
         ],
         "title": {
          "text": "industry"
         }
        },
        "yaxis": {
         "anchor": "x",
         "domain": [
          0,
          1
         ],
         "title": {
          "text": "# of obs"
         }
        }
       }
      }
     },
     "metadata": {},
     "output_type": "display_data"
    }
   ],
   "source": [
    "## obs in each industry\n",
    "\n",
    "indus_count_li = []\n",
    "\n",
    "for i in range(9):\n",
    "    indus_count_li.append(df.groupby(['industry'])['industry'].count().values[i])\n",
    "\n",
    "temp = pd.DataFrame(columns=['industry', '# of obs'])\n",
    "temp['industry'] = ['IDK','agri', 'manu', 'uti', 'const', 'retail', 'trans', 'finance', 'service']\n",
    "temp['# of obs'] = indus_count_li\n",
    "\n",
    "fig = px.bar(temp, x='industry', y='# of obs', text_auto=True)\n",
    "fig.show()"
   ]
  },
  {
   "cell_type": "code",
   "execution_count": 19,
   "metadata": {},
   "outputs": [],
   "source": [
    "df2 = df.loc[df['rank_a_pr'] >= 80]"
   ]
  },
  {
   "cell_type": "code",
   "execution_count": 20,
   "metadata": {},
   "outputs": [
    {
     "data": {
      "text/html": [
       "<div>\n",
       "<style scoped>\n",
       "    .dataframe tbody tr th:only-of-type {\n",
       "        vertical-align: middle;\n",
       "    }\n",
       "\n",
       "    .dataframe tbody tr th {\n",
       "        vertical-align: top;\n",
       "    }\n",
       "\n",
       "    .dataframe thead th {\n",
       "        text-align: right;\n",
       "    }\n",
       "</style>\n",
       "<table border=\"1\" class=\"dataframe\">\n",
       "  <thead>\n",
       "    <tr style=\"text-align: right;\">\n",
       "      <th></th>\n",
       "      <th>yr</th>\n",
       "      <th>all</th>\n",
       "      <th>manu</th>\n",
       "      <th>uti</th>\n",
       "      <th>const</th>\n",
       "      <th>retail</th>\n",
       "      <th>trans</th>\n",
       "      <th>services</th>\n",
       "    </tr>\n",
       "  </thead>\n",
       "  <tbody>\n",
       "    <tr>\n",
       "      <th>0</th>\n",
       "      <td>2002</td>\n",
       "      <td>0.446296</td>\n",
       "      <td>0.463327</td>\n",
       "      <td>0.274648</td>\n",
       "      <td>0.606326</td>\n",
       "      <td>0.285382</td>\n",
       "      <td>0.717067</td>\n",
       "      <td>0.447659</td>\n",
       "    </tr>\n",
       "    <tr>\n",
       "      <th>1</th>\n",
       "      <td>2003</td>\n",
       "      <td>0.366959</td>\n",
       "      <td>0.368439</td>\n",
       "      <td>0.366732</td>\n",
       "      <td>0.778032</td>\n",
       "      <td>0.185945</td>\n",
       "      <td>0.676193</td>\n",
       "      <td>0.600129</td>\n",
       "    </tr>\n",
       "    <tr>\n",
       "      <th>2</th>\n",
       "      <td>2004</td>\n",
       "      <td>0.331775</td>\n",
       "      <td>0.355849</td>\n",
       "      <td>0.177144</td>\n",
       "      <td>0.498626</td>\n",
       "      <td>0.261760</td>\n",
       "      <td>0.391478</td>\n",
       "      <td>0.470374</td>\n",
       "    </tr>\n",
       "    <tr>\n",
       "      <th>3</th>\n",
       "      <td>2005</td>\n",
       "      <td>0.441966</td>\n",
       "      <td>0.471760</td>\n",
       "      <td>0.484374</td>\n",
       "      <td>0.498974</td>\n",
       "      <td>0.230134</td>\n",
       "      <td>0.462475</td>\n",
       "      <td>0.663447</td>\n",
       "    </tr>\n",
       "    <tr>\n",
       "      <th>4</th>\n",
       "      <td>2006</td>\n",
       "      <td>0.366119</td>\n",
       "      <td>0.381980</td>\n",
       "      <td>0.367420</td>\n",
       "      <td>0.557070</td>\n",
       "      <td>0.184627</td>\n",
       "      <td>0.838169</td>\n",
       "      <td>0.331408</td>\n",
       "    </tr>\n",
       "    <tr>\n",
       "      <th>5</th>\n",
       "      <td>2007</td>\n",
       "      <td>0.373549</td>\n",
       "      <td>0.330319</td>\n",
       "      <td>0.439759</td>\n",
       "      <td>0.706460</td>\n",
       "      <td>0.315870</td>\n",
       "      <td>0.961369</td>\n",
       "      <td>0.357024</td>\n",
       "    </tr>\n",
       "    <tr>\n",
       "      <th>6</th>\n",
       "      <td>2008</td>\n",
       "      <td>0.696738</td>\n",
       "      <td>0.806971</td>\n",
       "      <td>0.183919</td>\n",
       "      <td>1.065101</td>\n",
       "      <td>0.523588</td>\n",
       "      <td>1.382645</td>\n",
       "      <td>0.488337</td>\n",
       "    </tr>\n",
       "    <tr>\n",
       "      <th>7</th>\n",
       "      <td>2009</td>\n",
       "      <td>0.517528</td>\n",
       "      <td>0.537702</td>\n",
       "      <td>0.377235</td>\n",
       "      <td>1.160713</td>\n",
       "      <td>0.387854</td>\n",
       "      <td>1.275350</td>\n",
       "      <td>0.248027</td>\n",
       "    </tr>\n",
       "    <tr>\n",
       "      <th>8</th>\n",
       "      <td>2010</td>\n",
       "      <td>0.366646</td>\n",
       "      <td>0.384967</td>\n",
       "      <td>0.228879</td>\n",
       "      <td>0.975893</td>\n",
       "      <td>0.204361</td>\n",
       "      <td>0.596706</td>\n",
       "      <td>0.271466</td>\n",
       "    </tr>\n",
       "    <tr>\n",
       "      <th>9</th>\n",
       "      <td>2011</td>\n",
       "      <td>0.433643</td>\n",
       "      <td>0.454847</td>\n",
       "      <td>0.234691</td>\n",
       "      <td>0.923478</td>\n",
       "      <td>0.357472</td>\n",
       "      <td>-0.412493</td>\n",
       "      <td>0.264471</td>\n",
       "    </tr>\n",
       "    <tr>\n",
       "      <th>10</th>\n",
       "      <td>2012</td>\n",
       "      <td>0.561874</td>\n",
       "      <td>0.619901</td>\n",
       "      <td>0.298699</td>\n",
       "      <td>1.194276</td>\n",
       "      <td>0.415393</td>\n",
       "      <td>0.646542</td>\n",
       "      <td>0.299804</td>\n",
       "    </tr>\n",
       "    <tr>\n",
       "      <th>11</th>\n",
       "      <td>2013</td>\n",
       "      <td>0.583352</td>\n",
       "      <td>0.664900</td>\n",
       "      <td>0.300670</td>\n",
       "      <td>0.850177</td>\n",
       "      <td>0.299955</td>\n",
       "      <td>-0.465305</td>\n",
       "      <td>0.236337</td>\n",
       "    </tr>\n",
       "    <tr>\n",
       "      <th>12</th>\n",
       "      <td>2014</td>\n",
       "      <td>0.534527</td>\n",
       "      <td>0.566597</td>\n",
       "      <td>0.645578</td>\n",
       "      <td>1.079707</td>\n",
       "      <td>0.357034</td>\n",
       "      <td>0.959153</td>\n",
       "      <td>0.342551</td>\n",
       "    </tr>\n",
       "    <tr>\n",
       "      <th>13</th>\n",
       "      <td>2015</td>\n",
       "      <td>0.561278</td>\n",
       "      <td>0.613224</td>\n",
       "      <td>0.433416</td>\n",
       "      <td>1.276595</td>\n",
       "      <td>0.451954</td>\n",
       "      <td>-1.216486</td>\n",
       "      <td>0.264140</td>\n",
       "    </tr>\n",
       "    <tr>\n",
       "      <th>14</th>\n",
       "      <td>2016</td>\n",
       "      <td>0.543111</td>\n",
       "      <td>0.558820</td>\n",
       "      <td>0.541224</td>\n",
       "      <td>1.393948</td>\n",
       "      <td>0.287304</td>\n",
       "      <td>2.135392</td>\n",
       "      <td>0.404252</td>\n",
       "    </tr>\n",
       "    <tr>\n",
       "      <th>15</th>\n",
       "      <td>2017</td>\n",
       "      <td>0.558539</td>\n",
       "      <td>0.579358</td>\n",
       "      <td>0.527359</td>\n",
       "      <td>1.052082</td>\n",
       "      <td>0.403567</td>\n",
       "      <td>0.770687</td>\n",
       "      <td>0.258108</td>\n",
       "    </tr>\n",
       "    <tr>\n",
       "      <th>16</th>\n",
       "      <td>2018</td>\n",
       "      <td>0.512521</td>\n",
       "      <td>0.487245</td>\n",
       "      <td>0.597506</td>\n",
       "      <td>0.688670</td>\n",
       "      <td>0.307484</td>\n",
       "      <td>1.655761</td>\n",
       "      <td>0.532187</td>\n",
       "    </tr>\n",
       "    <tr>\n",
       "      <th>17</th>\n",
       "      <td>2019</td>\n",
       "      <td>0.596360</td>\n",
       "      <td>0.629638</td>\n",
       "      <td>0.548177</td>\n",
       "      <td>1.384529</td>\n",
       "      <td>0.190908</td>\n",
       "      <td>1.953399</td>\n",
       "      <td>0.632416</td>\n",
       "    </tr>\n",
       "    <tr>\n",
       "      <th>18</th>\n",
       "      <td>2020</td>\n",
       "      <td>0.539223</td>\n",
       "      <td>0.602554</td>\n",
       "      <td>0.539319</td>\n",
       "      <td>0.365243</td>\n",
       "      <td>0.250619</td>\n",
       "      <td>-3.053619</td>\n",
       "      <td>0.198910</td>\n",
       "    </tr>\n",
       "    <tr>\n",
       "      <th>19</th>\n",
       "      <td>2021</td>\n",
       "      <td>0.456816</td>\n",
       "      <td>0.471646</td>\n",
       "      <td>0.535166</td>\n",
       "      <td>1.338337</td>\n",
       "      <td>0.372275</td>\n",
       "      <td>0.197069</td>\n",
       "      <td>0.288896</td>\n",
       "    </tr>\n",
       "    <tr>\n",
       "      <th>20</th>\n",
       "      <td>2022</td>\n",
       "      <td>0.500638</td>\n",
       "      <td>0.505024</td>\n",
       "      <td>0.520084</td>\n",
       "      <td>0.326603</td>\n",
       "      <td>0.454840</td>\n",
       "      <td>0.491870</td>\n",
       "      <td>0.664310</td>\n",
       "    </tr>\n",
       "    <tr>\n",
       "      <th>21</th>\n",
       "      <td>2023</td>\n",
       "      <td>0.567549</td>\n",
       "      <td>0.648286</td>\n",
       "      <td>0.461121</td>\n",
       "      <td>0.426417</td>\n",
       "      <td>0.342717</td>\n",
       "      <td>1.533558</td>\n",
       "      <td>0.276878</td>\n",
       "    </tr>\n",
       "  </tbody>\n",
       "</table>\n",
       "</div>"
      ],
      "text/plain": [
       "      yr       all      manu       uti     const    retail     trans  services\n",
       "0   2002  0.446296  0.463327  0.274648  0.606326  0.285382  0.717067  0.447659\n",
       "1   2003  0.366959  0.368439  0.366732  0.778032  0.185945  0.676193  0.600129\n",
       "2   2004  0.331775  0.355849  0.177144  0.498626  0.261760  0.391478  0.470374\n",
       "3   2005  0.441966  0.471760  0.484374  0.498974  0.230134  0.462475  0.663447\n",
       "4   2006  0.366119  0.381980  0.367420  0.557070  0.184627  0.838169  0.331408\n",
       "5   2007  0.373549  0.330319  0.439759  0.706460  0.315870  0.961369  0.357024\n",
       "6   2008  0.696738  0.806971  0.183919  1.065101  0.523588  1.382645  0.488337\n",
       "7   2009  0.517528  0.537702  0.377235  1.160713  0.387854  1.275350  0.248027\n",
       "8   2010  0.366646  0.384967  0.228879  0.975893  0.204361  0.596706  0.271466\n",
       "9   2011  0.433643  0.454847  0.234691  0.923478  0.357472 -0.412493  0.264471\n",
       "10  2012  0.561874  0.619901  0.298699  1.194276  0.415393  0.646542  0.299804\n",
       "11  2013  0.583352  0.664900  0.300670  0.850177  0.299955 -0.465305  0.236337\n",
       "12  2014  0.534527  0.566597  0.645578  1.079707  0.357034  0.959153  0.342551\n",
       "13  2015  0.561278  0.613224  0.433416  1.276595  0.451954 -1.216486  0.264140\n",
       "14  2016  0.543111  0.558820  0.541224  1.393948  0.287304  2.135392  0.404252\n",
       "15  2017  0.558539  0.579358  0.527359  1.052082  0.403567  0.770687  0.258108\n",
       "16  2018  0.512521  0.487245  0.597506  0.688670  0.307484  1.655761  0.532187\n",
       "17  2019  0.596360  0.629638  0.548177  1.384529  0.190908  1.953399  0.632416\n",
       "18  2020  0.539223  0.602554  0.539319  0.365243  0.250619 -3.053619  0.198910\n",
       "19  2021  0.456816  0.471646  0.535166  1.338337  0.372275  0.197069  0.288896\n",
       "20  2022  0.500638  0.505024  0.520084  0.326603  0.454840  0.491870  0.664310\n",
       "21  2023  0.567549  0.648286  0.461121  0.426417  0.342717  1.533558  0.276878"
      ]
     },
     "execution_count": 20,
     "metadata": {},
     "output_type": "execute_result"
    }
   ],
   "source": [
    "## compute labor share(plot later)\n",
    "\n",
    "col = ['all', 'manu', 'uti', 'const', 'retail', 'trans', 'services']\n",
    "temp = pd.DataFrame(columns = ['yr', 'all', 'manu', 'uti', 'const', 'retail', 'trans', 'services'])\n",
    "temp['yr'] = range(2002, 2024)\n",
    "\n",
    "count = 0\n",
    "for i in [1, 2, 3, 4, 5, 6, 8]:\n",
    "\n",
    "    s_li = []\n",
    "    to = col[count]\n",
    "\n",
    "    for j in range(2002, 2024):\n",
    "        if i == 1:\n",
    "            s_li.append(df2.loc[df2['time'] == str(j)+'/12']['pay'].sum()/df2.loc[df2['time'] == str(j)+'/12']['gross'].sum())\n",
    "        else:\n",
    "            s_li.append(df2.loc[(df2['time'] == str(j)+'/12') & (df2['industry'] == i)]['pay'].sum()/df2.loc[(df2['time'] == str(j)+'/12') & (df2['industry'] == i)]['gross'].sum())\n",
    "\n",
    "    temp[to] = s_li\n",
    "    count += 1\n",
    "\n",
    "temp"
   ]
  },
  {
   "cell_type": "code",
   "execution_count": 21,
   "metadata": {},
   "outputs": [
    {
     "data": {
      "application/vnd.plotly.v1+json": {
       "config": {
        "plotlyServerURL": "https://plot.ly"
       },
       "data": [
        {
         "mode": "lines",
         "name": "all",
         "type": "scatter",
         "x": [
          2002,
          2003,
          2004,
          2005,
          2006,
          2007,
          2008,
          2009,
          2010,
          2011,
          2012,
          2013,
          2014,
          2015,
          2016,
          2017,
          2018,
          2019,
          2020,
          2021,
          2022,
          2023
         ],
         "xaxis": "x",
         "y": [
          0.4462956277849861,
          0.3669593664796279,
          0.33177536365723165,
          0.4419658410514223,
          0.3661186199503727,
          0.37354859454051753,
          0.6967382965133979,
          0.5175275329596437,
          0.36664614535504975,
          0.4336432611504798,
          0.5618739428748947,
          0.5833518218012969,
          0.5345272585216664,
          0.5612777115198578,
          0.5431109457312006,
          0.5585389036707168,
          0.5125205892803449,
          0.5963595418630226,
          0.5392234366172476,
          0.45681614670313675,
          0.5006377817879115,
          0.5675494008088521
         ],
         "yaxis": "y"
        },
        {
         "mode": "lines",
         "name": "manu",
         "type": "scatter",
         "x": [
          2002,
          2003,
          2004,
          2005,
          2006,
          2007,
          2008,
          2009,
          2010,
          2011,
          2012,
          2013,
          2014,
          2015,
          2016,
          2017,
          2018,
          2019,
          2020,
          2021,
          2022,
          2023
         ],
         "xaxis": "x2",
         "y": [
          0.463326636571934,
          0.3684390788214168,
          0.3558488386513432,
          0.4717599145720407,
          0.3819799994118961,
          0.33031932629250343,
          0.8069713804630191,
          0.5377023357168025,
          0.3849672519660785,
          0.4548468482134339,
          0.619900907727448,
          0.6648996892192799,
          0.5665968881327065,
          0.6132242340498285,
          0.5588197499079666,
          0.5793578178279493,
          0.48724461674927816,
          0.6296381813982826,
          0.6025537924794236,
          0.47164570496827807,
          0.5050238951486972,
          0.6482860969131521
         ],
         "yaxis": "y2"
        },
        {
         "mode": "lines",
         "name": "uti",
         "type": "scatter",
         "x": [
          2002,
          2003,
          2004,
          2005,
          2006,
          2007,
          2008,
          2009,
          2010,
          2011,
          2012,
          2013,
          2014,
          2015,
          2016,
          2017,
          2018,
          2019,
          2020,
          2021,
          2022,
          2023
         ],
         "xaxis": "x3",
         "y": [
          0.2746480251421295,
          0.36673177189552725,
          0.1771440580358712,
          0.4843744691806678,
          0.36741980783571987,
          0.43975944086443547,
          0.1839192593370178,
          0.3772353822728706,
          0.22887911501174968,
          0.2346911495461337,
          0.29869904381327383,
          0.3006702502042945,
          0.6455776998077287,
          0.43341608548388,
          0.5412241213689788,
          0.5273590990265793,
          0.5975057497320303,
          0.5481773665665927,
          0.5393191904782746,
          0.535166217204186,
          0.520084229332169,
          0.4611211769756736
         ],
         "yaxis": "y3"
        },
        {
         "mode": "lines",
         "name": "const",
         "type": "scatter",
         "x": [
          2002,
          2003,
          2004,
          2005,
          2006,
          2007,
          2008,
          2009,
          2010,
          2011,
          2012,
          2013,
          2014,
          2015,
          2016,
          2017,
          2018,
          2019,
          2020,
          2021,
          2022,
          2023
         ],
         "xaxis": "x4",
         "y": [
          0.6063263519857508,
          0.7780315739665333,
          0.4986258117889617,
          0.49897417789163306,
          0.5570702661172033,
          0.7064595374262943,
          1.0651005661543986,
          1.1607130607168388,
          0.9758929536949815,
          0.9234781864337452,
          1.1942764787694864,
          0.8501767920512182,
          1.0797070877427215,
          1.2765945975313926,
          1.3939483333993383,
          1.052082276468957,
          0.6886699542329633,
          1.3845291361635415,
          0.36524300459259956,
          1.3383373455941843,
          0.3266029599181372,
          0.4264172939700824
         ],
         "yaxis": "y4"
        },
        {
         "mode": "lines",
         "name": "retail",
         "type": "scatter",
         "x": [
          2002,
          2003,
          2004,
          2005,
          2006,
          2007,
          2008,
          2009,
          2010,
          2011,
          2012,
          2013,
          2014,
          2015,
          2016,
          2017,
          2018,
          2019,
          2020,
          2021,
          2022,
          2023
         ],
         "xaxis": "x5",
         "y": [
          0.2853817806376944,
          0.18594485371976155,
          0.2617599251611116,
          0.23013350670766902,
          0.18462749489117555,
          0.3158696897510864,
          0.5235876345670142,
          0.38785397125374677,
          0.20436109320120396,
          0.3574718357551479,
          0.41539338499581824,
          0.29995480615565057,
          0.3570337669533107,
          0.45195440474917725,
          0.2873042036373435,
          0.40356695189715935,
          0.30748447826416425,
          0.19090842319479134,
          0.25061856099967644,
          0.3722745395042271,
          0.45483983563384195,
          0.34271698993010524
         ],
         "yaxis": "y5"
        },
        {
         "mode": "lines",
         "name": "trans",
         "type": "scatter",
         "x": [
          2002,
          2003,
          2004,
          2005,
          2006,
          2007,
          2008,
          2009,
          2010,
          2011,
          2012,
          2013,
          2014,
          2015,
          2016,
          2017,
          2018,
          2019,
          2020,
          2021,
          2022,
          2023
         ],
         "xaxis": "x6",
         "y": [
          0.7170672902661945,
          0.6761933622536096,
          0.3914777497722599,
          0.46247514957045016,
          0.8381688574716286,
          0.9613687551173281,
          1.3826450301012787,
          1.2753504034113932,
          0.5967064412555269,
          -0.4124931621945997,
          0.6465415510562574,
          -0.46530463936255473,
          0.9591527068994413,
          -1.2164857371326125,
          2.135392107498659,
          0.7706873482423455,
          1.6557606401220624,
          1.9533990834737391,
          -3.0536191230089247,
          0.19706903703928713,
          0.4918697716086549,
          1.533558493917195
         ],
         "yaxis": "y6"
        },
        {
         "mode": "lines",
         "name": "services",
         "type": "scatter",
         "x": [
          2002,
          2003,
          2004,
          2005,
          2006,
          2007,
          2008,
          2009,
          2010,
          2011,
          2012,
          2013,
          2014,
          2015,
          2016,
          2017,
          2018,
          2019,
          2020,
          2021,
          2022,
          2023
         ],
         "xaxis": "x7",
         "y": [
          0.4476594437940234,
          0.600128614220477,
          0.470373967056558,
          0.6634474828004925,
          0.3314082641403765,
          0.3570237115111552,
          0.48833686758629496,
          0.24802682266290343,
          0.2714664047815582,
          0.26447097922589546,
          0.2998035963364608,
          0.2363366096054112,
          0.3425508590917186,
          0.26414044361292066,
          0.4042515825266575,
          0.25810771325190834,
          0.532187141703066,
          0.6324155777161847,
          0.1989101443782403,
          0.2888958195871226,
          0.6643099738305671,
          0.27687773899597673
         ],
         "yaxis": "y7"
        }
       ],
       "layout": {
        "height": 600,
        "template": {
         "data": {
          "bar": [
           {
            "error_x": {
             "color": "#2a3f5f"
            },
            "error_y": {
             "color": "#2a3f5f"
            },
            "marker": {
             "line": {
              "color": "#E5ECF6",
              "width": 0.5
             },
             "pattern": {
              "fillmode": "overlay",
              "size": 10,
              "solidity": 0.2
             }
            },
            "type": "bar"
           }
          ],
          "barpolar": [
           {
            "marker": {
             "line": {
              "color": "#E5ECF6",
              "width": 0.5
             },
             "pattern": {
              "fillmode": "overlay",
              "size": 10,
              "solidity": 0.2
             }
            },
            "type": "barpolar"
           }
          ],
          "carpet": [
           {
            "aaxis": {
             "endlinecolor": "#2a3f5f",
             "gridcolor": "white",
             "linecolor": "white",
             "minorgridcolor": "white",
             "startlinecolor": "#2a3f5f"
            },
            "baxis": {
             "endlinecolor": "#2a3f5f",
             "gridcolor": "white",
             "linecolor": "white",
             "minorgridcolor": "white",
             "startlinecolor": "#2a3f5f"
            },
            "type": "carpet"
           }
          ],
          "choropleth": [
           {
            "colorbar": {
             "outlinewidth": 0,
             "ticks": ""
            },
            "type": "choropleth"
           }
          ],
          "contour": [
           {
            "colorbar": {
             "outlinewidth": 0,
             "ticks": ""
            },
            "colorscale": [
             [
              0,
              "#0d0887"
             ],
             [
              0.1111111111111111,
              "#46039f"
             ],
             [
              0.2222222222222222,
              "#7201a8"
             ],
             [
              0.3333333333333333,
              "#9c179e"
             ],
             [
              0.4444444444444444,
              "#bd3786"
             ],
             [
              0.5555555555555556,
              "#d8576b"
             ],
             [
              0.6666666666666666,
              "#ed7953"
             ],
             [
              0.7777777777777778,
              "#fb9f3a"
             ],
             [
              0.8888888888888888,
              "#fdca26"
             ],
             [
              1,
              "#f0f921"
             ]
            ],
            "type": "contour"
           }
          ],
          "contourcarpet": [
           {
            "colorbar": {
             "outlinewidth": 0,
             "ticks": ""
            },
            "type": "contourcarpet"
           }
          ],
          "heatmap": [
           {
            "colorbar": {
             "outlinewidth": 0,
             "ticks": ""
            },
            "colorscale": [
             [
              0,
              "#0d0887"
             ],
             [
              0.1111111111111111,
              "#46039f"
             ],
             [
              0.2222222222222222,
              "#7201a8"
             ],
             [
              0.3333333333333333,
              "#9c179e"
             ],
             [
              0.4444444444444444,
              "#bd3786"
             ],
             [
              0.5555555555555556,
              "#d8576b"
             ],
             [
              0.6666666666666666,
              "#ed7953"
             ],
             [
              0.7777777777777778,
              "#fb9f3a"
             ],
             [
              0.8888888888888888,
              "#fdca26"
             ],
             [
              1,
              "#f0f921"
             ]
            ],
            "type": "heatmap"
           }
          ],
          "heatmapgl": [
           {
            "colorbar": {
             "outlinewidth": 0,
             "ticks": ""
            },
            "colorscale": [
             [
              0,
              "#0d0887"
             ],
             [
              0.1111111111111111,
              "#46039f"
             ],
             [
              0.2222222222222222,
              "#7201a8"
             ],
             [
              0.3333333333333333,
              "#9c179e"
             ],
             [
              0.4444444444444444,
              "#bd3786"
             ],
             [
              0.5555555555555556,
              "#d8576b"
             ],
             [
              0.6666666666666666,
              "#ed7953"
             ],
             [
              0.7777777777777778,
              "#fb9f3a"
             ],
             [
              0.8888888888888888,
              "#fdca26"
             ],
             [
              1,
              "#f0f921"
             ]
            ],
            "type": "heatmapgl"
           }
          ],
          "histogram": [
           {
            "marker": {
             "pattern": {
              "fillmode": "overlay",
              "size": 10,
              "solidity": 0.2
             }
            },
            "type": "histogram"
           }
          ],
          "histogram2d": [
           {
            "colorbar": {
             "outlinewidth": 0,
             "ticks": ""
            },
            "colorscale": [
             [
              0,
              "#0d0887"
             ],
             [
              0.1111111111111111,
              "#46039f"
             ],
             [
              0.2222222222222222,
              "#7201a8"
             ],
             [
              0.3333333333333333,
              "#9c179e"
             ],
             [
              0.4444444444444444,
              "#bd3786"
             ],
             [
              0.5555555555555556,
              "#d8576b"
             ],
             [
              0.6666666666666666,
              "#ed7953"
             ],
             [
              0.7777777777777778,
              "#fb9f3a"
             ],
             [
              0.8888888888888888,
              "#fdca26"
             ],
             [
              1,
              "#f0f921"
             ]
            ],
            "type": "histogram2d"
           }
          ],
          "histogram2dcontour": [
           {
            "colorbar": {
             "outlinewidth": 0,
             "ticks": ""
            },
            "colorscale": [
             [
              0,
              "#0d0887"
             ],
             [
              0.1111111111111111,
              "#46039f"
             ],
             [
              0.2222222222222222,
              "#7201a8"
             ],
             [
              0.3333333333333333,
              "#9c179e"
             ],
             [
              0.4444444444444444,
              "#bd3786"
             ],
             [
              0.5555555555555556,
              "#d8576b"
             ],
             [
              0.6666666666666666,
              "#ed7953"
             ],
             [
              0.7777777777777778,
              "#fb9f3a"
             ],
             [
              0.8888888888888888,
              "#fdca26"
             ],
             [
              1,
              "#f0f921"
             ]
            ],
            "type": "histogram2dcontour"
           }
          ],
          "mesh3d": [
           {
            "colorbar": {
             "outlinewidth": 0,
             "ticks": ""
            },
            "type": "mesh3d"
           }
          ],
          "parcoords": [
           {
            "line": {
             "colorbar": {
              "outlinewidth": 0,
              "ticks": ""
             }
            },
            "type": "parcoords"
           }
          ],
          "pie": [
           {
            "automargin": true,
            "type": "pie"
           }
          ],
          "scatter": [
           {
            "fillpattern": {
             "fillmode": "overlay",
             "size": 10,
             "solidity": 0.2
            },
            "type": "scatter"
           }
          ],
          "scatter3d": [
           {
            "line": {
             "colorbar": {
              "outlinewidth": 0,
              "ticks": ""
             }
            },
            "marker": {
             "colorbar": {
              "outlinewidth": 0,
              "ticks": ""
             }
            },
            "type": "scatter3d"
           }
          ],
          "scattercarpet": [
           {
            "marker": {
             "colorbar": {
              "outlinewidth": 0,
              "ticks": ""
             }
            },
            "type": "scattercarpet"
           }
          ],
          "scattergeo": [
           {
            "marker": {
             "colorbar": {
              "outlinewidth": 0,
              "ticks": ""
             }
            },
            "type": "scattergeo"
           }
          ],
          "scattergl": [
           {
            "marker": {
             "colorbar": {
              "outlinewidth": 0,
              "ticks": ""
             }
            },
            "type": "scattergl"
           }
          ],
          "scattermapbox": [
           {
            "marker": {
             "colorbar": {
              "outlinewidth": 0,
              "ticks": ""
             }
            },
            "type": "scattermapbox"
           }
          ],
          "scatterpolar": [
           {
            "marker": {
             "colorbar": {
              "outlinewidth": 0,
              "ticks": ""
             }
            },
            "type": "scatterpolar"
           }
          ],
          "scatterpolargl": [
           {
            "marker": {
             "colorbar": {
              "outlinewidth": 0,
              "ticks": ""
             }
            },
            "type": "scatterpolargl"
           }
          ],
          "scatterternary": [
           {
            "marker": {
             "colorbar": {
              "outlinewidth": 0,
              "ticks": ""
             }
            },
            "type": "scatterternary"
           }
          ],
          "surface": [
           {
            "colorbar": {
             "outlinewidth": 0,
             "ticks": ""
            },
            "colorscale": [
             [
              0,
              "#0d0887"
             ],
             [
              0.1111111111111111,
              "#46039f"
             ],
             [
              0.2222222222222222,
              "#7201a8"
             ],
             [
              0.3333333333333333,
              "#9c179e"
             ],
             [
              0.4444444444444444,
              "#bd3786"
             ],
             [
              0.5555555555555556,
              "#d8576b"
             ],
             [
              0.6666666666666666,
              "#ed7953"
             ],
             [
              0.7777777777777778,
              "#fb9f3a"
             ],
             [
              0.8888888888888888,
              "#fdca26"
             ],
             [
              1,
              "#f0f921"
             ]
            ],
            "type": "surface"
           }
          ],
          "table": [
           {
            "cells": {
             "fill": {
              "color": "#EBF0F8"
             },
             "line": {
              "color": "white"
             }
            },
            "header": {
             "fill": {
              "color": "#C8D4E3"
             },
             "line": {
              "color": "white"
             }
            },
            "type": "table"
           }
          ]
         },
         "layout": {
          "annotationdefaults": {
           "arrowcolor": "#2a3f5f",
           "arrowhead": 0,
           "arrowwidth": 1
          },
          "autotypenumbers": "strict",
          "coloraxis": {
           "colorbar": {
            "outlinewidth": 0,
            "ticks": ""
           }
          },
          "colorscale": {
           "diverging": [
            [
             0,
             "#8e0152"
            ],
            [
             0.1,
             "#c51b7d"
            ],
            [
             0.2,
             "#de77ae"
            ],
            [
             0.3,
             "#f1b6da"
            ],
            [
             0.4,
             "#fde0ef"
            ],
            [
             0.5,
             "#f7f7f7"
            ],
            [
             0.6,
             "#e6f5d0"
            ],
            [
             0.7,
             "#b8e186"
            ],
            [
             0.8,
             "#7fbc41"
            ],
            [
             0.9,
             "#4d9221"
            ],
            [
             1,
             "#276419"
            ]
           ],
           "sequential": [
            [
             0,
             "#0d0887"
            ],
            [
             0.1111111111111111,
             "#46039f"
            ],
            [
             0.2222222222222222,
             "#7201a8"
            ],
            [
             0.3333333333333333,
             "#9c179e"
            ],
            [
             0.4444444444444444,
             "#bd3786"
            ],
            [
             0.5555555555555556,
             "#d8576b"
            ],
            [
             0.6666666666666666,
             "#ed7953"
            ],
            [
             0.7777777777777778,
             "#fb9f3a"
            ],
            [
             0.8888888888888888,
             "#fdca26"
            ],
            [
             1,
             "#f0f921"
            ]
           ],
           "sequentialminus": [
            [
             0,
             "#0d0887"
            ],
            [
             0.1111111111111111,
             "#46039f"
            ],
            [
             0.2222222222222222,
             "#7201a8"
            ],
            [
             0.3333333333333333,
             "#9c179e"
            ],
            [
             0.4444444444444444,
             "#bd3786"
            ],
            [
             0.5555555555555556,
             "#d8576b"
            ],
            [
             0.6666666666666666,
             "#ed7953"
            ],
            [
             0.7777777777777778,
             "#fb9f3a"
            ],
            [
             0.8888888888888888,
             "#fdca26"
            ],
            [
             1,
             "#f0f921"
            ]
           ]
          },
          "colorway": [
           "#636efa",
           "#EF553B",
           "#00cc96",
           "#ab63fa",
           "#FFA15A",
           "#19d3f3",
           "#FF6692",
           "#B6E880",
           "#FF97FF",
           "#FECB52"
          ],
          "font": {
           "color": "#2a3f5f"
          },
          "geo": {
           "bgcolor": "white",
           "lakecolor": "white",
           "landcolor": "#E5ECF6",
           "showlakes": true,
           "showland": true,
           "subunitcolor": "white"
          },
          "hoverlabel": {
           "align": "left"
          },
          "hovermode": "closest",
          "mapbox": {
           "style": "light"
          },
          "paper_bgcolor": "white",
          "plot_bgcolor": "#E5ECF6",
          "polar": {
           "angularaxis": {
            "gridcolor": "white",
            "linecolor": "white",
            "ticks": ""
           },
           "bgcolor": "#E5ECF6",
           "radialaxis": {
            "gridcolor": "white",
            "linecolor": "white",
            "ticks": ""
           }
          },
          "scene": {
           "xaxis": {
            "backgroundcolor": "#E5ECF6",
            "gridcolor": "white",
            "gridwidth": 2,
            "linecolor": "white",
            "showbackground": true,
            "ticks": "",
            "zerolinecolor": "white"
           },
           "yaxis": {
            "backgroundcolor": "#E5ECF6",
            "gridcolor": "white",
            "gridwidth": 2,
            "linecolor": "white",
            "showbackground": true,
            "ticks": "",
            "zerolinecolor": "white"
           },
           "zaxis": {
            "backgroundcolor": "#E5ECF6",
            "gridcolor": "white",
            "gridwidth": 2,
            "linecolor": "white",
            "showbackground": true,
            "ticks": "",
            "zerolinecolor": "white"
           }
          },
          "shapedefaults": {
           "line": {
            "color": "#2a3f5f"
           }
          },
          "ternary": {
           "aaxis": {
            "gridcolor": "white",
            "linecolor": "white",
            "ticks": ""
           },
           "baxis": {
            "gridcolor": "white",
            "linecolor": "white",
            "ticks": ""
           },
           "bgcolor": "#E5ECF6",
           "caxis": {
            "gridcolor": "white",
            "linecolor": "white",
            "ticks": ""
           }
          },
          "title": {
           "x": 0.05
          },
          "xaxis": {
           "automargin": true,
           "gridcolor": "white",
           "linecolor": "white",
           "ticks": "",
           "title": {
            "standoff": 15
           },
           "zerolinecolor": "white",
           "zerolinewidth": 2
          },
          "yaxis": {
           "automargin": true,
           "gridcolor": "white",
           "linecolor": "white",
           "ticks": "",
           "title": {
            "standoff": 15
           },
           "zerolinecolor": "white",
           "zerolinewidth": 2
          }
         }
        },
        "title": {
         "text": "unweighted labor share(pay/va)"
        },
        "width": 800,
        "xaxis": {
         "anchor": "y",
         "domain": [
          0,
          0.45
         ]
        },
        "xaxis2": {
         "anchor": "y2",
         "domain": [
          0.55,
          1
         ]
        },
        "xaxis3": {
         "anchor": "y3",
         "domain": [
          0,
          0.45
         ]
        },
        "xaxis4": {
         "anchor": "y4",
         "domain": [
          0.55,
          1
         ]
        },
        "xaxis5": {
         "anchor": "y5",
         "domain": [
          0,
          0.45
         ]
        },
        "xaxis6": {
         "anchor": "y6",
         "domain": [
          0.55,
          1
         ]
        },
        "xaxis7": {
         "anchor": "y7",
         "domain": [
          0,
          0.45
         ]
        },
        "xaxis8": {
         "anchor": "y8",
         "domain": [
          0.55,
          1
         ]
        },
        "yaxis": {
         "anchor": "x",
         "domain": [
          0.80625,
          1
         ]
        },
        "yaxis2": {
         "anchor": "x2",
         "domain": [
          0.80625,
          1
         ]
        },
        "yaxis3": {
         "anchor": "x3",
         "domain": [
          0.5375,
          0.73125
         ]
        },
        "yaxis4": {
         "anchor": "x4",
         "domain": [
          0.5375,
          0.73125
         ]
        },
        "yaxis5": {
         "anchor": "x5",
         "domain": [
          0.26875,
          0.4625
         ]
        },
        "yaxis6": {
         "anchor": "x6",
         "domain": [
          0.26875,
          0.4625
         ]
        },
        "yaxis7": {
         "anchor": "x7",
         "domain": [
          0,
          0.19375
         ]
        },
        "yaxis8": {
         "anchor": "x8",
         "domain": [
          0,
          0.19375
         ]
        }
       }
      }
     },
     "metadata": {},
     "output_type": "display_data"
    }
   ],
   "source": [
    "## labor share\n",
    "\n",
    "fig = make_subplots(rows = 4, cols = 2)\n",
    "\n",
    "fig.add_trace(go.Scatter(x = temp['yr'], y=temp['all'],\n",
    "                    mode='lines',\n",
    "                    name='all'), row=1,col=1)\n",
    "\n",
    "fig.add_trace(go.Scatter(x = temp['yr'], y=temp['manu'],\n",
    "                    mode='lines',\n",
    "                    name='manu'), row=1,col=2)\n",
    "\n",
    "fig.add_trace(go.Scatter(x = temp['yr'], y=temp['uti'],\n",
    "                    mode='lines',\n",
    "                    name='uti'), row=2,col=1)\n",
    "\n",
    "fig.add_trace(go.Scatter(x = temp['yr'], y=temp['const'],\n",
    "                    mode='lines',\n",
    "                    name='const'), row=2,col=2)\n",
    "\n",
    "fig.add_trace(go.Scatter(x = temp['yr'], y=temp['retail'],\n",
    "                    mode='lines',\n",
    "                    name='retail'), row=3,col=1)\n",
    "\n",
    "fig.add_trace(go.Scatter(x = temp['yr'], y=temp['trans'],\n",
    "                    mode='lines',\n",
    "                    name='trans'), row=3,col=2)\n",
    "\n",
    "fig.add_trace(go.Scatter(x = temp['yr'], y=temp['services'],\n",
    "                    mode='lines',\n",
    "                    name='services'), row=4,col=1)\n",
    "\n",
    "fig.update_layout(height=600, width=800, title_text=\"unweighted labor share(pay/va)\")\n",
    "fig.show()\n"
   ]
  },
  {
   "cell_type": "code",
   "execution_count": 22,
   "metadata": {},
   "outputs": [
    {
     "data": {
      "application/vnd.plotly.v1+json": {
       "config": {
        "plotlyServerURL": "https://plot.ly"
       },
       "data": [
        {
         "mode": "lines",
         "name": "all",
         "type": "scatter",
         "x": [
          2002,
          2003,
          2004,
          2005,
          2006,
          2007,
          2009,
          2010,
          2011,
          2012,
          2013,
          2014,
          2015,
          2016,
          2017,
          2018,
          2019,
          2020,
          2021,
          2022,
          2023
         ],
         "xaxis": "x",
         "y": [
          0.4462956277849861,
          0.3669593664796279,
          0.33177536365723165,
          0.4419658410514223,
          0.3661186199503727,
          0.37354859454051753,
          0.5175275329596437,
          0.36664614535504975,
          0.4336432611504798,
          0.5618739428748947,
          0.5833518218012969,
          0.5345272585216664,
          0.5612777115198578,
          0.5431109457312006,
          0.5585389036707168,
          0.5125205892803449,
          0.5963595418630226,
          0.5392234366172476,
          0.45681614670313675,
          0.5006377817879115,
          0.5675494008088521
         ],
         "yaxis": "y"
        },
        {
         "mode": "lines",
         "name": "manu",
         "type": "scatter",
         "x": [
          2002,
          2003,
          2004,
          2005,
          2006,
          2007,
          2009,
          2010,
          2011,
          2012,
          2013,
          2014,
          2015,
          2016,
          2017,
          2018,
          2019,
          2020,
          2021,
          2022,
          2023
         ],
         "xaxis": "x2",
         "y": [
          0.463326636571934,
          0.3684390788214168,
          0.3558488386513432,
          0.4717599145720407,
          0.3819799994118961,
          0.33031932629250343,
          0.5377023357168025,
          0.3849672519660785,
          0.4548468482134339,
          0.619900907727448,
          0.6648996892192799,
          0.5665968881327065,
          0.6132242340498285,
          0.5588197499079666,
          0.5793578178279493,
          0.48724461674927816,
          0.6296381813982826,
          0.6025537924794236,
          0.47164570496827807,
          0.5050238951486972,
          0.6482860969131521
         ],
         "yaxis": "y2"
        },
        {
         "mode": "lines",
         "name": "uti",
         "type": "scatter",
         "x": [
          2002,
          2003,
          2004,
          2005,
          2006,
          2007,
          2009,
          2010,
          2011,
          2012,
          2013,
          2014,
          2015,
          2016,
          2017,
          2018,
          2019,
          2020,
          2021,
          2022,
          2023
         ],
         "xaxis": "x3",
         "y": [
          0.2746480251421295,
          0.36673177189552725,
          0.1771440580358712,
          0.4843744691806678,
          0.36741980783571987,
          0.43975944086443547,
          0.3772353822728706,
          0.22887911501174968,
          0.2346911495461337,
          0.29869904381327383,
          0.3006702502042945,
          0.6455776998077287,
          0.43341608548388,
          0.5412241213689788,
          0.5273590990265793,
          0.5975057497320303,
          0.5481773665665927,
          0.5393191904782746,
          0.535166217204186,
          0.520084229332169,
          0.4611211769756736
         ],
         "yaxis": "y3"
        },
        {
         "mode": "lines",
         "name": "const",
         "type": "scatter",
         "x": [
          2002,
          2003,
          2004,
          2005,
          2006,
          2007,
          2009,
          2010,
          2011,
          2012,
          2013,
          2014,
          2015,
          2016,
          2017,
          2018,
          2019,
          2020,
          2021,
          2022,
          2023
         ],
         "xaxis": "x4",
         "y": [
          0.6063263519857508,
          0.7780315739665333,
          0.4986258117889617,
          0.49897417789163306,
          0.5570702661172033,
          0.7064595374262943,
          1.1607130607168388,
          0.9758929536949815,
          0.9234781864337452,
          1.1942764787694864,
          0.8501767920512182,
          1.0797070877427215,
          1.2765945975313926,
          1.3939483333993383,
          1.052082276468957,
          0.6886699542329633,
          1.3845291361635415,
          0.36524300459259956,
          1.3383373455941843,
          0.3266029599181372,
          0.4264172939700824
         ],
         "yaxis": "y4"
        },
        {
         "mode": "lines",
         "name": "retail",
         "type": "scatter",
         "x": [
          2002,
          2003,
          2004,
          2005,
          2006,
          2007,
          2009,
          2010,
          2011,
          2012,
          2013,
          2014,
          2015,
          2016,
          2017,
          2018,
          2019,
          2020,
          2021,
          2022,
          2023
         ],
         "xaxis": "x5",
         "y": [
          0.2853817806376944,
          0.18594485371976155,
          0.2617599251611116,
          0.23013350670766902,
          0.18462749489117555,
          0.3158696897510864,
          0.38785397125374677,
          0.20436109320120396,
          0.3574718357551479,
          0.41539338499581824,
          0.29995480615565057,
          0.3570337669533107,
          0.45195440474917725,
          0.2873042036373435,
          0.40356695189715935,
          0.30748447826416425,
          0.19090842319479134,
          0.25061856099967644,
          0.3722745395042271,
          0.45483983563384195,
          0.34271698993010524
         ],
         "yaxis": "y5"
        },
        {
         "mode": "lines",
         "name": "trans",
         "type": "scatter",
         "x": [
          2002,
          2003,
          2004,
          2005,
          2006,
          2007,
          2009,
          2010,
          2011,
          2012,
          2013,
          2014,
          2015,
          2016,
          2017,
          2018,
          2019,
          2020,
          2021,
          2022,
          2023
         ],
         "xaxis": "x6",
         "y": [
          0.7170672902661945,
          0.6761933622536096,
          0.3914777497722599,
          0.46247514957045016,
          0.8381688574716286,
          0.9613687551173281,
          1.2753504034113932,
          0.5967064412555269,
          -0.4124931621945997,
          0.6465415510562574,
          -0.46530463936255473,
          0.9591527068994413,
          -1.2164857371326125,
          2.135392107498659,
          0.7706873482423455,
          1.6557606401220624,
          1.9533990834737391,
          -3.0536191230089247,
          0.19706903703928713,
          0.4918697716086549,
          1.533558493917195
         ],
         "yaxis": "y6"
        },
        {
         "mode": "lines",
         "name": "services",
         "type": "scatter",
         "x": [
          2002,
          2003,
          2004,
          2005,
          2006,
          2007,
          2009,
          2010,
          2011,
          2012,
          2013,
          2014,
          2015,
          2016,
          2017,
          2018,
          2019,
          2020,
          2021,
          2022,
          2023
         ],
         "xaxis": "x7",
         "y": [
          0.4476594437940234,
          0.600128614220477,
          0.470373967056558,
          0.6634474828004925,
          0.3314082641403765,
          0.3570237115111552,
          0.24802682266290343,
          0.2714664047815582,
          0.26447097922589546,
          0.2998035963364608,
          0.2363366096054112,
          0.3425508590917186,
          0.26414044361292066,
          0.4042515825266575,
          0.25810771325190834,
          0.532187141703066,
          0.6324155777161847,
          0.1989101443782403,
          0.2888958195871226,
          0.6643099738305671,
          0.27687773899597673
         ],
         "yaxis": "y7"
        }
       ],
       "layout": {
        "height": 600,
        "template": {
         "data": {
          "bar": [
           {
            "error_x": {
             "color": "#2a3f5f"
            },
            "error_y": {
             "color": "#2a3f5f"
            },
            "marker": {
             "line": {
              "color": "#E5ECF6",
              "width": 0.5
             },
             "pattern": {
              "fillmode": "overlay",
              "size": 10,
              "solidity": 0.2
             }
            },
            "type": "bar"
           }
          ],
          "barpolar": [
           {
            "marker": {
             "line": {
              "color": "#E5ECF6",
              "width": 0.5
             },
             "pattern": {
              "fillmode": "overlay",
              "size": 10,
              "solidity": 0.2
             }
            },
            "type": "barpolar"
           }
          ],
          "carpet": [
           {
            "aaxis": {
             "endlinecolor": "#2a3f5f",
             "gridcolor": "white",
             "linecolor": "white",
             "minorgridcolor": "white",
             "startlinecolor": "#2a3f5f"
            },
            "baxis": {
             "endlinecolor": "#2a3f5f",
             "gridcolor": "white",
             "linecolor": "white",
             "minorgridcolor": "white",
             "startlinecolor": "#2a3f5f"
            },
            "type": "carpet"
           }
          ],
          "choropleth": [
           {
            "colorbar": {
             "outlinewidth": 0,
             "ticks": ""
            },
            "type": "choropleth"
           }
          ],
          "contour": [
           {
            "colorbar": {
             "outlinewidth": 0,
             "ticks": ""
            },
            "colorscale": [
             [
              0,
              "#0d0887"
             ],
             [
              0.1111111111111111,
              "#46039f"
             ],
             [
              0.2222222222222222,
              "#7201a8"
             ],
             [
              0.3333333333333333,
              "#9c179e"
             ],
             [
              0.4444444444444444,
              "#bd3786"
             ],
             [
              0.5555555555555556,
              "#d8576b"
             ],
             [
              0.6666666666666666,
              "#ed7953"
             ],
             [
              0.7777777777777778,
              "#fb9f3a"
             ],
             [
              0.8888888888888888,
              "#fdca26"
             ],
             [
              1,
              "#f0f921"
             ]
            ],
            "type": "contour"
           }
          ],
          "contourcarpet": [
           {
            "colorbar": {
             "outlinewidth": 0,
             "ticks": ""
            },
            "type": "contourcarpet"
           }
          ],
          "heatmap": [
           {
            "colorbar": {
             "outlinewidth": 0,
             "ticks": ""
            },
            "colorscale": [
             [
              0,
              "#0d0887"
             ],
             [
              0.1111111111111111,
              "#46039f"
             ],
             [
              0.2222222222222222,
              "#7201a8"
             ],
             [
              0.3333333333333333,
              "#9c179e"
             ],
             [
              0.4444444444444444,
              "#bd3786"
             ],
             [
              0.5555555555555556,
              "#d8576b"
             ],
             [
              0.6666666666666666,
              "#ed7953"
             ],
             [
              0.7777777777777778,
              "#fb9f3a"
             ],
             [
              0.8888888888888888,
              "#fdca26"
             ],
             [
              1,
              "#f0f921"
             ]
            ],
            "type": "heatmap"
           }
          ],
          "heatmapgl": [
           {
            "colorbar": {
             "outlinewidth": 0,
             "ticks": ""
            },
            "colorscale": [
             [
              0,
              "#0d0887"
             ],
             [
              0.1111111111111111,
              "#46039f"
             ],
             [
              0.2222222222222222,
              "#7201a8"
             ],
             [
              0.3333333333333333,
              "#9c179e"
             ],
             [
              0.4444444444444444,
              "#bd3786"
             ],
             [
              0.5555555555555556,
              "#d8576b"
             ],
             [
              0.6666666666666666,
              "#ed7953"
             ],
             [
              0.7777777777777778,
              "#fb9f3a"
             ],
             [
              0.8888888888888888,
              "#fdca26"
             ],
             [
              1,
              "#f0f921"
             ]
            ],
            "type": "heatmapgl"
           }
          ],
          "histogram": [
           {
            "marker": {
             "pattern": {
              "fillmode": "overlay",
              "size": 10,
              "solidity": 0.2
             }
            },
            "type": "histogram"
           }
          ],
          "histogram2d": [
           {
            "colorbar": {
             "outlinewidth": 0,
             "ticks": ""
            },
            "colorscale": [
             [
              0,
              "#0d0887"
             ],
             [
              0.1111111111111111,
              "#46039f"
             ],
             [
              0.2222222222222222,
              "#7201a8"
             ],
             [
              0.3333333333333333,
              "#9c179e"
             ],
             [
              0.4444444444444444,
              "#bd3786"
             ],
             [
              0.5555555555555556,
              "#d8576b"
             ],
             [
              0.6666666666666666,
              "#ed7953"
             ],
             [
              0.7777777777777778,
              "#fb9f3a"
             ],
             [
              0.8888888888888888,
              "#fdca26"
             ],
             [
              1,
              "#f0f921"
             ]
            ],
            "type": "histogram2d"
           }
          ],
          "histogram2dcontour": [
           {
            "colorbar": {
             "outlinewidth": 0,
             "ticks": ""
            },
            "colorscale": [
             [
              0,
              "#0d0887"
             ],
             [
              0.1111111111111111,
              "#46039f"
             ],
             [
              0.2222222222222222,
              "#7201a8"
             ],
             [
              0.3333333333333333,
              "#9c179e"
             ],
             [
              0.4444444444444444,
              "#bd3786"
             ],
             [
              0.5555555555555556,
              "#d8576b"
             ],
             [
              0.6666666666666666,
              "#ed7953"
             ],
             [
              0.7777777777777778,
              "#fb9f3a"
             ],
             [
              0.8888888888888888,
              "#fdca26"
             ],
             [
              1,
              "#f0f921"
             ]
            ],
            "type": "histogram2dcontour"
           }
          ],
          "mesh3d": [
           {
            "colorbar": {
             "outlinewidth": 0,
             "ticks": ""
            },
            "type": "mesh3d"
           }
          ],
          "parcoords": [
           {
            "line": {
             "colorbar": {
              "outlinewidth": 0,
              "ticks": ""
             }
            },
            "type": "parcoords"
           }
          ],
          "pie": [
           {
            "automargin": true,
            "type": "pie"
           }
          ],
          "scatter": [
           {
            "fillpattern": {
             "fillmode": "overlay",
             "size": 10,
             "solidity": 0.2
            },
            "type": "scatter"
           }
          ],
          "scatter3d": [
           {
            "line": {
             "colorbar": {
              "outlinewidth": 0,
              "ticks": ""
             }
            },
            "marker": {
             "colorbar": {
              "outlinewidth": 0,
              "ticks": ""
             }
            },
            "type": "scatter3d"
           }
          ],
          "scattercarpet": [
           {
            "marker": {
             "colorbar": {
              "outlinewidth": 0,
              "ticks": ""
             }
            },
            "type": "scattercarpet"
           }
          ],
          "scattergeo": [
           {
            "marker": {
             "colorbar": {
              "outlinewidth": 0,
              "ticks": ""
             }
            },
            "type": "scattergeo"
           }
          ],
          "scattergl": [
           {
            "marker": {
             "colorbar": {
              "outlinewidth": 0,
              "ticks": ""
             }
            },
            "type": "scattergl"
           }
          ],
          "scattermapbox": [
           {
            "marker": {
             "colorbar": {
              "outlinewidth": 0,
              "ticks": ""
             }
            },
            "type": "scattermapbox"
           }
          ],
          "scatterpolar": [
           {
            "marker": {
             "colorbar": {
              "outlinewidth": 0,
              "ticks": ""
             }
            },
            "type": "scatterpolar"
           }
          ],
          "scatterpolargl": [
           {
            "marker": {
             "colorbar": {
              "outlinewidth": 0,
              "ticks": ""
             }
            },
            "type": "scatterpolargl"
           }
          ],
          "scatterternary": [
           {
            "marker": {
             "colorbar": {
              "outlinewidth": 0,
              "ticks": ""
             }
            },
            "type": "scatterternary"
           }
          ],
          "surface": [
           {
            "colorbar": {
             "outlinewidth": 0,
             "ticks": ""
            },
            "colorscale": [
             [
              0,
              "#0d0887"
             ],
             [
              0.1111111111111111,
              "#46039f"
             ],
             [
              0.2222222222222222,
              "#7201a8"
             ],
             [
              0.3333333333333333,
              "#9c179e"
             ],
             [
              0.4444444444444444,
              "#bd3786"
             ],
             [
              0.5555555555555556,
              "#d8576b"
             ],
             [
              0.6666666666666666,
              "#ed7953"
             ],
             [
              0.7777777777777778,
              "#fb9f3a"
             ],
             [
              0.8888888888888888,
              "#fdca26"
             ],
             [
              1,
              "#f0f921"
             ]
            ],
            "type": "surface"
           }
          ],
          "table": [
           {
            "cells": {
             "fill": {
              "color": "#EBF0F8"
             },
             "line": {
              "color": "white"
             }
            },
            "header": {
             "fill": {
              "color": "#C8D4E3"
             },
             "line": {
              "color": "white"
             }
            },
            "type": "table"
           }
          ]
         },
         "layout": {
          "annotationdefaults": {
           "arrowcolor": "#2a3f5f",
           "arrowhead": 0,
           "arrowwidth": 1
          },
          "autotypenumbers": "strict",
          "coloraxis": {
           "colorbar": {
            "outlinewidth": 0,
            "ticks": ""
           }
          },
          "colorscale": {
           "diverging": [
            [
             0,
             "#8e0152"
            ],
            [
             0.1,
             "#c51b7d"
            ],
            [
             0.2,
             "#de77ae"
            ],
            [
             0.3,
             "#f1b6da"
            ],
            [
             0.4,
             "#fde0ef"
            ],
            [
             0.5,
             "#f7f7f7"
            ],
            [
             0.6,
             "#e6f5d0"
            ],
            [
             0.7,
             "#b8e186"
            ],
            [
             0.8,
             "#7fbc41"
            ],
            [
             0.9,
             "#4d9221"
            ],
            [
             1,
             "#276419"
            ]
           ],
           "sequential": [
            [
             0,
             "#0d0887"
            ],
            [
             0.1111111111111111,
             "#46039f"
            ],
            [
             0.2222222222222222,
             "#7201a8"
            ],
            [
             0.3333333333333333,
             "#9c179e"
            ],
            [
             0.4444444444444444,
             "#bd3786"
            ],
            [
             0.5555555555555556,
             "#d8576b"
            ],
            [
             0.6666666666666666,
             "#ed7953"
            ],
            [
             0.7777777777777778,
             "#fb9f3a"
            ],
            [
             0.8888888888888888,
             "#fdca26"
            ],
            [
             1,
             "#f0f921"
            ]
           ],
           "sequentialminus": [
            [
             0,
             "#0d0887"
            ],
            [
             0.1111111111111111,
             "#46039f"
            ],
            [
             0.2222222222222222,
             "#7201a8"
            ],
            [
             0.3333333333333333,
             "#9c179e"
            ],
            [
             0.4444444444444444,
             "#bd3786"
            ],
            [
             0.5555555555555556,
             "#d8576b"
            ],
            [
             0.6666666666666666,
             "#ed7953"
            ],
            [
             0.7777777777777778,
             "#fb9f3a"
            ],
            [
             0.8888888888888888,
             "#fdca26"
            ],
            [
             1,
             "#f0f921"
            ]
           ]
          },
          "colorway": [
           "#636efa",
           "#EF553B",
           "#00cc96",
           "#ab63fa",
           "#FFA15A",
           "#19d3f3",
           "#FF6692",
           "#B6E880",
           "#FF97FF",
           "#FECB52"
          ],
          "font": {
           "color": "#2a3f5f"
          },
          "geo": {
           "bgcolor": "white",
           "lakecolor": "white",
           "landcolor": "#E5ECF6",
           "showlakes": true,
           "showland": true,
           "subunitcolor": "white"
          },
          "hoverlabel": {
           "align": "left"
          },
          "hovermode": "closest",
          "mapbox": {
           "style": "light"
          },
          "paper_bgcolor": "white",
          "plot_bgcolor": "#E5ECF6",
          "polar": {
           "angularaxis": {
            "gridcolor": "white",
            "linecolor": "white",
            "ticks": ""
           },
           "bgcolor": "#E5ECF6",
           "radialaxis": {
            "gridcolor": "white",
            "linecolor": "white",
            "ticks": ""
           }
          },
          "scene": {
           "xaxis": {
            "backgroundcolor": "#E5ECF6",
            "gridcolor": "white",
            "gridwidth": 2,
            "linecolor": "white",
            "showbackground": true,
            "ticks": "",
            "zerolinecolor": "white"
           },
           "yaxis": {
            "backgroundcolor": "#E5ECF6",
            "gridcolor": "white",
            "gridwidth": 2,
            "linecolor": "white",
            "showbackground": true,
            "ticks": "",
            "zerolinecolor": "white"
           },
           "zaxis": {
            "backgroundcolor": "#E5ECF6",
            "gridcolor": "white",
            "gridwidth": 2,
            "linecolor": "white",
            "showbackground": true,
            "ticks": "",
            "zerolinecolor": "white"
           }
          },
          "shapedefaults": {
           "line": {
            "color": "#2a3f5f"
           }
          },
          "ternary": {
           "aaxis": {
            "gridcolor": "white",
            "linecolor": "white",
            "ticks": ""
           },
           "baxis": {
            "gridcolor": "white",
            "linecolor": "white",
            "ticks": ""
           },
           "bgcolor": "#E5ECF6",
           "caxis": {
            "gridcolor": "white",
            "linecolor": "white",
            "ticks": ""
           }
          },
          "title": {
           "x": 0.05
          },
          "xaxis": {
           "automargin": true,
           "gridcolor": "white",
           "linecolor": "white",
           "ticks": "",
           "title": {
            "standoff": 15
           },
           "zerolinecolor": "white",
           "zerolinewidth": 2
          },
          "yaxis": {
           "automargin": true,
           "gridcolor": "white",
           "linecolor": "white",
           "ticks": "",
           "title": {
            "standoff": 15
           },
           "zerolinecolor": "white",
           "zerolinewidth": 2
          }
         }
        },
        "title": {
         "text": "unweighted labor share(pay/va drop 2008)"
        },
        "width": 800,
        "xaxis": {
         "anchor": "y",
         "domain": [
          0,
          0.45
         ]
        },
        "xaxis2": {
         "anchor": "y2",
         "domain": [
          0.55,
          1
         ]
        },
        "xaxis3": {
         "anchor": "y3",
         "domain": [
          0,
          0.45
         ]
        },
        "xaxis4": {
         "anchor": "y4",
         "domain": [
          0.55,
          1
         ]
        },
        "xaxis5": {
         "anchor": "y5",
         "domain": [
          0,
          0.45
         ]
        },
        "xaxis6": {
         "anchor": "y6",
         "domain": [
          0.55,
          1
         ]
        },
        "xaxis7": {
         "anchor": "y7",
         "domain": [
          0,
          0.45
         ]
        },
        "xaxis8": {
         "anchor": "y8",
         "domain": [
          0.55,
          1
         ]
        },
        "yaxis": {
         "anchor": "x",
         "domain": [
          0.80625,
          1
         ]
        },
        "yaxis2": {
         "anchor": "x2",
         "domain": [
          0.80625,
          1
         ]
        },
        "yaxis3": {
         "anchor": "x3",
         "domain": [
          0.5375,
          0.73125
         ]
        },
        "yaxis4": {
         "anchor": "x4",
         "domain": [
          0.5375,
          0.73125
         ]
        },
        "yaxis5": {
         "anchor": "x5",
         "domain": [
          0.26875,
          0.4625
         ]
        },
        "yaxis6": {
         "anchor": "x6",
         "domain": [
          0.26875,
          0.4625
         ]
        },
        "yaxis7": {
         "anchor": "x7",
         "domain": [
          0,
          0.19375
         ]
        },
        "yaxis8": {
         "anchor": "x8",
         "domain": [
          0,
          0.19375
         ]
        }
       }
      }
     },
     "metadata": {},
     "output_type": "display_data"
    }
   ],
   "source": [
    "## labor share (drop 2008)\n",
    "\n",
    "temp2 = temp.drop(6)\n",
    "\n",
    "fig = make_subplots(rows = 4, cols = 2)\n",
    "\n",
    "fig.add_trace(go.Scatter(x = temp2['yr'], y=temp2['all'],\n",
    "                    mode='lines',\n",
    "                    name='all'), row=1,col=1)\n",
    "\n",
    "fig.add_trace(go.Scatter(x = temp2['yr'], y=temp2['manu'],\n",
    "                    mode='lines',\n",
    "                    name='manu'), row=1,col=2)\n",
    "\n",
    "fig.add_trace(go.Scatter(x = temp2['yr'], y=temp2['uti'],\n",
    "                    mode='lines',\n",
    "                    name='uti'), row=2,col=1)\n",
    "\n",
    "fig.add_trace(go.Scatter(x = temp2['yr'], y=temp2['const'],\n",
    "                    mode='lines',\n",
    "                    name='const'), row=2,col=2)\n",
    "\n",
    "fig.add_trace(go.Scatter(x = temp2['yr'], y=temp2['retail'],\n",
    "                    mode='lines',\n",
    "                    name='retail'), row=3,col=1)\n",
    "\n",
    "fig.add_trace(go.Scatter(x = temp2['yr'], y=temp2['trans'],\n",
    "                    mode='lines',\n",
    "                    name='trans'), row=3,col=2)\n",
    "\n",
    "fig.add_trace(go.Scatter(x = temp2['yr'], y=temp2['services'],\n",
    "                    mode='lines',\n",
    "                    name='services'), row=4,col=1)\n",
    "\n",
    "\n",
    "fig.update_layout(height=600, width=800, title_text=\"unweighted labor share(pay/va drop 2008)\")\n",
    "fig.show()"
   ]
  }
 ],
 "metadata": {
  "kernelspec": {
   "display_name": "Python 3",
   "language": "python",
   "name": "python3"
  },
  "language_info": {
   "codemirror_mode": {
    "name": "ipython",
    "version": 3
   },
   "file_extension": ".py",
   "mimetype": "text/x-python",
   "name": "python",
   "nbconvert_exporter": "python",
   "pygments_lexer": "ipython3",
   "version": "3.9.2"
  }
 },
 "nbformat": 4,
 "nbformat_minor": 2
}
